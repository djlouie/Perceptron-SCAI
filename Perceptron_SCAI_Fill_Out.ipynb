{
 "cells": [
  {
   "cell_type": "markdown",
   "metadata": {
    "id": "39RGliZHerG3"
   },
   "source": [
    "# Perceptron Notebook!"
   ]
  },
  {
   "cell_type": "markdown",
   "metadata": {
    "id": "or7xlbIwecEc"
   },
   "source": [
    "## 1.  Perceptron / McCulloch-Pitts Neuron\n",
    "\n",
    "$$\\hat{y}(x) = H(\\sum_{i=1}^{n}w_ix_i)$$\n",
    "\n",
    "or\n",
    "\n",
    "$$\\hat{y}(x) = H(w \\cdot x)$$\n",
    "\n",
    "or\n",
    "\n",
    "$$\\hat{y}(x) = H(w^Tx)$$\n",
    "\n",
    "where $H$ is the heaviside step function"
   ]
  },
  {
   "cell_type": "code",
   "execution_count": null,
   "metadata": {
    "id": "vHehb0l6vGbr"
   },
   "outputs": [],
   "source": [
    "import random\n",
    "import torch\n",
    "import torch.nn as nn\n",
    "from torch import Tensor\n",
    "import matplotlib.pyplot as plt\n",
    "import numpy as np"
   ]
  },
  {
   "cell_type": "code",
   "execution_count": null,
   "metadata": {
    "id": "NpAFnxx6egGV"
   },
   "outputs": [],
   "source": [
    "class Perceptron():\n",
    "    def __init__(self, w, b):\n",
    "        self.w = w\n",
    "        self.b = b\n",
    "\n",
    "    def predict(self, x: Tensor):\n",
    "        \n",
    "        ################################\n",
    "        # Fill Out Prediction Function #\n",
    "        ################################"
   ]
  },
  {
   "cell_type": "markdown",
   "metadata": {
    "id": "gvYYW6Zzex7F"
   },
   "source": [
    "## 2. Let's Test Our Answers"
   ]
  },
  {
   "cell_type": "code",
   "execution_count": null,
   "metadata": {
    "colab": {
     "base_uri": "https://localhost:8080/"
    },
    "id": "u9Tjcmy0e1g9",
    "outputId": "d149b850-560c-4f4e-892d-ceb94100ab0d"
   },
   "outputs": [],
   "source": [
    "# create an instance of the perceptron with weights (1, -1) and bias 0\n",
    "q1 = Perceptron(torch.tensor([1.0, -1.0]), 0)\n",
    "x = torch.tensor([0.5, 0.8])\n",
    "y_hat = q1.predict(x)\n",
    "y_hat"
   ]
  },
  {
   "cell_type": "code",
   "execution_count": null,
   "metadata": {
    "colab": {
     "base_uri": "https://localhost:8080/"
    },
    "id": "z0WorpAHe2fZ",
    "outputId": "ded3d961-6b6a-443c-ba68-e9ea882fd8ea"
   },
   "outputs": [],
   "source": [
    "# instance of the perceptron with weights (0.2, 0.75, -0.5) and bias -3\n",
    "q2 = Perceptron(torch.tensor([0.2, 0.75, -0.5]), -3)\n",
    "x = torch.tensor([10.0, 20.0, 30.0])\n",
    "y_hat = q2.predict(x)\n",
    "y_hat"
   ]
  },
  {
   "cell_type": "code",
   "execution_count": null,
   "metadata": {
    "colab": {
     "base_uri": "https://localhost:8080/"
    },
    "id": "qOIz8cjYe32k",
    "outputId": "6bc8b8b1-f0d8-43ce-f9f3-e23884ee3169"
   },
   "outputs": [],
   "source": [
    "# instance of the perceptron with weights (-2, -2) and bias 3\n",
    "q3456 = Perceptron(torch.tensor([-2, -2]), 3)\n",
    "\n",
    "x_hist = []\n",
    "y_hats = []\n",
    "for i in range(2):\n",
    "    for j in range(2):\n",
    "        x = torch.tensor([i, j])\n",
    "        x_hist.append(x)\n",
    "        y_hats.append(q3456.predict(x))\n",
    "\n",
    "print(x_hist)\n",
    "print(y_hats)"
   ]
  },
  {
   "cell_type": "markdown",
   "metadata": {
    "id": "ms0T3AJzfe4x"
   },
   "source": [
    "## 3. Perceptron Learning Algorithm"
   ]
  },
  {
   "cell_type": "markdown",
   "metadata": {
    "id": "yy16PkQ3fiGs"
   },
   "source": [
    "#### 3.1 Plotting Function"
   ]
  },
  {
   "cell_type": "code",
   "execution_count": null,
   "metadata": {
    "id": "KIU-4uW0fY9M"
   },
   "outputs": [],
   "source": [
    "def plot_perceptron(neuron, max_x, min_x, x_coords_0, y_coords_0, x_coords_1, y_coords_1):\n",
    "        # Create the plot\n",
    "        plt.scatter(x_coords_0, y_coords_0, c='red', label='Class 0')\n",
    "        plt.scatter(x_coords_1, y_coords_1, c='blue', label='Class 1')\n",
    "\n",
    "        # Add titles and labels\n",
    "        plt.title('Points')\n",
    "        plt.xlabel('X-axis')\n",
    "        plt.ylabel('Y-axis')\n",
    "        plt.grid(True)  # Optional: add a grid\n",
    "\n",
    "        # Plot Weight Vector\n",
    "        plt.arrow(0,0,neuron.w[0], neuron.w[1], width=0.02, head_width=0.05)\n",
    "\n",
    "        #Calculate the boundary line variables\n",
    "        if neuron.w[0] != 0 and neuron.w[1] != 0:\n",
    "            vector_slope = neuron.w[1]/neuron.w[0]\n",
    "            bound_slope = -1/vector_slope\n",
    "            x = np.linspace(min_x, max_x, num=1000)\n",
    "            y = bound_slope * x\n",
    "\n",
    "            #Plot the line\n",
    "            plt.plot(x, y)\n",
    "        elif neuron.w[0] != 0 and neuron.w[1] == 0:\n",
    "            #Plot the vertical line\n",
    "            plt.axvline(x=0)\n",
    "        elif neuron.w[0] == 0 and neuron.w[1] != 0:\n",
    "            #Plot the horizontal line\n",
    "            plt.axhline(y=0)\n",
    "\n",
    "        #Show the graph\n",
    "        plt.show()"
   ]
  },
  {
   "cell_type": "markdown",
   "metadata": {
    "id": "9dUYTBFKfsax"
   },
   "source": [
    "### 3.2 Create Simplified Perceptron Class\n",
    "\n",
    "We will set bias to 0 for simplicity."
   ]
  },
  {
   "cell_type": "code",
   "execution_count": null,
   "metadata": {
    "id": "BOiO4P51f0st"
   },
   "outputs": [],
   "source": [
    "class Perceptron():\n",
    "    def __init__(self,w):\n",
    "        self.w = w\n",
    "\n",
    "    def forward(self, x):\n",
    "        activation = torch.dot(self.w,x)\n",
    "        return activation\n",
    "\n",
    "    def predict(self, x):\n",
    "        with torch.no_grad():\n",
    "            \n",
    "            ################################\n",
    "\t\t\t# Fill Out Prediction Function #\n",
    "\t\t\t################################"
   ]
  },
  {
   "cell_type": "markdown",
   "metadata": {
    "id": "4DgkVGwof8Jm"
   },
   "source": [
    "### 3.3 Make Data For the Perceptron to Learn"
   ]
  },
  {
   "cell_type": "code",
   "execution_count": null,
   "metadata": {
    "id": "Qm6zM5dif5Vj"
   },
   "outputs": [],
   "source": [
    "#Data\n",
    "data=torch.tensor([(-1, -1), (-1, -0.5), (-1, 0), (-1, 0.5), (1, 0.5), (1, -0.5), (1, 1), (1, -1)],dtype=float)\n",
    "label=torch.tensor([1,1,1,1,0,0,0,0], dtype=float)\n",
    "\n",
    "min_x = min(data[:, 0])\n",
    "max_x = max(data[:, 0])\n",
    "\n",
    "data_size=len(data)\n",
    "data_sum=torch.sum(data,dim=0)\n",
    "data_mean=data_sum/data_size\n",
    "\n",
    "x_coords_0 = [point[0] for point, label in zip(data, label) if label == 0]\n",
    "y_coords_0 = [point[1] for point, label in zip(data, label) if label == 0]\n",
    "x_coords_1 = [point[0] for point, label in zip(data, label) if label == 1]\n",
    "y_coords_1 = [point[1] for point, label in zip(data, label) if label == 1]"
   ]
  },
  {
   "cell_type": "markdown",
   "metadata": {
    "id": "StUigcH3iJmW"
   },
   "source": [
    "### 3.4 Perceptron Learning with Gradient Descent"
   ]
  },
  {
   "cell_type": "code",
   "execution_count": null,
   "metadata": {
    "id": "7lj2U12pggyw"
   },
   "outputs": [],
   "source": [
    "# Define a learning rate\n",
    "lr = 0.1\n",
    "# Define a loss function\n",
    "loss_fn = nn.BCEWithLogitsLoss()"
   ]
  },
  {
   "cell_type": "code",
   "execution_count": null,
   "metadata": {
    "colab": {
     "base_uri": "https://localhost:8080/",
     "height": 1000
    },
    "id": "MblGnvTBgL55",
    "outputId": "75246331-b9f6-4317-8b04-fe21ec8741b2"
   },
   "outputs": [],
   "source": [
    "#Finding Weight\n",
    "weight = torch.tensor([random.random(), random.random()], requires_grad=True, dtype=float)\n",
    "learning_rate = 0.5\n",
    "neuron = Perceptron(weight)\n",
    "\n",
    "# Initial Plot\n",
    "if neuron != None:\n",
    "    print('Initial Plot')\n",
    "    with torch.no_grad():\n",
    "        print(f\"{neuron.w.tolist()} - {learning_rate}*{neuron.w.grad}\")\n",
    "        plot_perceptron(neuron, min_x, max_x, x_coords_0, y_coords_0, x_coords_1, y_coords_1)\n",
    "\n",
    "# Iterate Through Epochs\n",
    "for epoch in range(5):\n",
    "    old_w = neuron.w\n",
    "    all_correct = True\n",
    "    \n",
    "\t# Iterate Through Data\n",
    "    for i in range(len(data)):\n",
    "        point = data[i]\n",
    "        y = neuron.forward(point)\n",
    "\n",
    "        # neuron update!\n",
    "        loss_val = loss_fn(y, label[i])\n",
    "\n",
    "        # Gradient calculation + weight update\n",
    "        loss_val.backward()\n",
    "\n",
    "        with torch.no_grad():\n",
    "            # store old w\n",
    "            old_w = neuron.w.detach().numpy().copy()\n",
    "\n",
    "            # update w\n",
    "            neuron.w -= lr * neuron.w.grad\n",
    "\n",
    "            # Only Print Equation when prediction is wrong\n",
    "            if label[i] != y_hat:\n",
    "                print(f\"{neuron.w.tolist()} - {learning_rate}*{neuron.w.grad}\")\n",
    "\n",
    "        # Only Make a New Plot when the weights change\n",
    "        if label[i] != y_hat:\n",
    "            with torch.no_grad():\n",
    "                plot_perceptron(neuron, max_x, min_x, x_coords_0, y_coords_0, x_coords_1, y_coords_1)\n",
    "                \n",
    "        # Break loop if perceptron predicts everything correct\n",
    "        with torch.no_grad():\n",
    "            for i in range(len(data)):\n",
    "                point = data[i]\n",
    "                y_hat = neuron.predict(point)\n",
    "                if y_hat != label[i]:\n",
    "                    all_correct = False\n",
    "            if all_correct:\n",
    "                break\n",
    "    if all_correct:\n",
    "        break"
   ]
  }
 ],
 "metadata": {
  "colab": {
   "provenance": []
  },
  "kernelspec": {
   "display_name": "Python 3",
   "name": "python3"
  },
  "language_info": {
   "codemirror_mode": {
    "name": "ipython",
    "version": 3
   },
   "file_extension": ".py",
   "mimetype": "text/x-python",
   "name": "python",
   "nbconvert_exporter": "python",
   "pygments_lexer": "ipython3",
   "version": "3.11.7"
  }
 },
 "nbformat": 4,
 "nbformat_minor": 0
}
